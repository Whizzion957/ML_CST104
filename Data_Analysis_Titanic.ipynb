{
  "nbformat": 4,
  "nbformat_minor": 0,
  "metadata": {
    "colab": {
      "provenance": [],
      "authorship_tag": "ABX9TyNLoGGYX174rGs0uxSB5+Dw",
      "include_colab_link": true
    },
    "kernelspec": {
      "name": "python3",
      "display_name": "Python 3"
    },
    "language_info": {
      "name": "python"
    }
  },
  "cells": [
    {
      "cell_type": "markdown",
      "metadata": {
        "id": "view-in-github",
        "colab_type": "text"
      },
      "source": [
        "<a href=\"https://colab.research.google.com/github/Whizzion957/ML_CST104/blob/main/Data_Analysis_Titanic.ipynb\" target=\"_parent\"><img src=\"https://colab.research.google.com/assets/colab-badge.svg\" alt=\"Open In Colab\"/></a>"
      ]
    },
    {
      "cell_type": "markdown",
      "source": [
        "1. Import the necessary libraries and load the titanic dataset from the seaborn library into a pandas DataFrame"
      ],
      "metadata": {
        "id": "GdPAl2ZY8T4d"
      }
    },
    {
      "cell_type": "code",
      "execution_count": 1,
      "metadata": {
        "id": "Q1XrDz-KPQ51"
      },
      "outputs": [],
      "source": [
        "import pandas as pds\n",
        "import seaborn as sns\n",
        "import matplotlib.pyplot as plt\n",
        "t_data=sns.load_dataset('titanic')"
      ]
    },
    {
      "cell_type": "markdown",
      "source": [
        "2. Display the first 5 rows of the dataset"
      ],
      "metadata": {
        "id": "Hj_NUzcf8SRT"
      }
    },
    {
      "cell_type": "code",
      "source": [
        "dt = t_data.iloc[:5]\n",
        "col_widths=[max(dt[col].astype(str).map(len).max(),len(col)) for col in dt.columns]\n",
        "header=\"\".join(f\"{col:<{col_widths[i] + 2}}\" for i, col in enumerate(dt.columns))\n",
        "print(header)\n",
        "\n",
        "for i in range(len(dt)):\n",
        "    row = \"\".join(f\"{str(dt.iloc[i, j]):<{col_widths[j] + 2}}\" for j in range(len(dt.columns)))\n",
        "    print(row)\n",
        "\n"
      ],
      "metadata": {
        "colab": {
          "base_uri": "https://localhost:8080/"
        },
        "id": "wAnJYWnV9x7d",
        "outputId": "bc3e3e12-3a92-46fb-b884-35225ff45165"
      },
      "execution_count": 2,
      "outputs": [
        {
          "output_type": "stream",
          "name": "stdout",
          "text": [
            "survived  pclass  sex     age   sibsp  parch  fare     embarked  class  who    adult_male  deck  embark_town  alive  alone  \n",
            "0         3       male    22.0  1      0      7.25     S         Third  man    True        nan   Southampton  no     False  \n",
            "1         1       female  38.0  1      0      71.2833  C         First  woman  False       C     Cherbourg    yes    False  \n",
            "1         3       female  26.0  0      0      7.925    S         Third  woman  False       nan   Southampton  yes    True   \n",
            "1         1       female  35.0  1      0      53.1     S         First  woman  False       C     Southampton  yes    False  \n",
            "0         3       male    35.0  0      0      8.05     S         Third  man    True        nan   Southampton  no     True   \n"
          ]
        }
      ]
    },
    {
      "cell_type": "markdown",
      "source": [
        "3. Print the column headers to dataset\n",
        "\n"
      ],
      "metadata": {
        "id": "o_HNmB2F-iwX"
      }
    },
    {
      "cell_type": "code",
      "source": [
        "header=\"\".join(f\"{col} \" for col in t_data.columns)\n",
        "print(header)"
      ],
      "metadata": {
        "colab": {
          "base_uri": "https://localhost:8080/"
        },
        "id": "LeOQeZgo-x11",
        "outputId": "784fa611-fd39-4f51-c71c-2a39fcbfd1cd"
      },
      "execution_count": 3,
      "outputs": [
        {
          "output_type": "stream",
          "name": "stdout",
          "text": [
            "survived pclass sex age sibsp parch fare embarked class who adult_male deck embark_town alive alone \n"
          ]
        }
      ]
    },
    {
      "cell_type": "markdown",
      "source": [
        "4. Change the column headers to uppercase"
      ],
      "metadata": {
        "id": "g-IrIdvR_Eu-"
      }
    },
    {
      "cell_type": "code",
      "source": [
        "t_data.columns=t_data.columns.str.upper()\n",
        "header=\"\".join(f\"{col} \" for col in t_data.columns)\n",
        "print(header)"
      ],
      "metadata": {
        "colab": {
          "base_uri": "https://localhost:8080/"
        },
        "id": "1MkH93G-_4H9",
        "outputId": "19b16679-74be-4eaa-fa97-3a53b03f9fe4"
      },
      "execution_count": 4,
      "outputs": [
        {
          "output_type": "stream",
          "name": "stdout",
          "text": [
            "SURVIVED PCLASS SEX AGE SIBSP PARCH FARE EMBARKED CLASS WHO ADULT_MALE DECK EMBARK_TOWN ALIVE ALONE \n"
          ]
        }
      ]
    },
    {
      "cell_type": "markdown",
      "source": [
        "5. Calculate and display the descriptive statistics of the dataset"
      ],
      "metadata": {
        "id": "k0s0y-iwIeDD"
      }
    },
    {
      "cell_type": "code",
      "source": [
        "def calc_mean(data):\n",
        "    return sum(data)/len(data)\n",
        "\n",
        "def calc_std(data):\n",
        "    mean=calc_mean(data)\n",
        "    var=sum((x-mean)**2 for x in data)/(len(data)-1)\n",
        "    return var**0.5\n",
        "\n",
        "def calc_quartiles(data):\n",
        "    data_sort=sorted(data)\n",
        "    n=len(data_sort)\n",
        "    if(n%4!=0):\n",
        "        Q1=data_sort[n//4]\n",
        "        Q3=data_sort[3*n//4]\n",
        "    else:\n",
        "        Q1=(data_sort[n//4-1]+data_sort[n//4])/2\n",
        "        Q3=(data_sort[3*n//4-1]+data_sort[3*n//4])/2\n",
        "\n",
        "    if(n%2!=0):\n",
        "        Q2=data_sort[n//2]\n",
        "    else:\n",
        "        Q2=(data_sort[n//2-1]+data_sort[n//2])/2\n",
        "\n",
        "    return Q1,Q2,Q3\n",
        "\n",
        "def calc_min_max(data):\n",
        "    return min(data),max(data)\n",
        "\n",
        "def calc_uniq_val(data):\n",
        "    return len(set(data))\n",
        "\n",
        "num_col = ['AGE', 'FARE']\n",
        "\n",
        "for c in num_col:\n",
        "    data = t_data[c].dropna()\n",
        "    mean = calc_mean(data)\n",
        "    std_dev = calc_std(data)\n",
        "    Q1, Q2, Q3 = calc_quartiles(data)\n",
        "    min_val, max_val = calc_min_max(data)\n",
        "    uniq_val = calc_uniq_val(data)\n",
        "    print(f\"Statistics for column '{c}':\")\n",
        "    print(f\"  Mean: {mean}\")\n",
        "    print(f\"  Standard Deviation: {std_dev}\")\n",
        "    print(f\"  25th Quartile: {Q1}\")\n",
        "    print(f\"  50th Quartile (Median): {Q2}\")\n",
        "    print(f\"  75th Quartile: {Q3}\")\n",
        "    print(f\"  Minimum: {min_val}\")\n",
        "    print(f\"  Maximum: {max_val}\")\n",
        "    print(f\"  Number of Unique Values: {uniq_val}\")\n",
        "    print()"
      ],
      "metadata": {
        "colab": {
          "base_uri": "https://localhost:8080/"
        },
        "id": "a5krEgVeI4ZZ",
        "outputId": "a281d235-3452-4df9-abb7-125f8433dfc3"
      },
      "execution_count": 5,
      "outputs": [
        {
          "output_type": "stream",
          "name": "stdout",
          "text": [
            "Statistics for column 'AGE':\n",
            "  Mean: 29.69911764705882\n",
            "  Standard Deviation: 14.526497332334044\n",
            "  25th Quartile: 20.0\n",
            "  50th Quartile (Median): 28.0\n",
            "  75th Quartile: 38.0\n",
            "  Minimum: 0.42\n",
            "  Maximum: 80.0\n",
            "  Number of Unique Values: 88\n",
            "\n",
            "Statistics for column 'FARE':\n",
            "  Mean: 32.2042079685746\n",
            "  Standard Deviation: 49.693428597180905\n",
            "  25th Quartile: 7.8958\n",
            "  50th Quartile (Median): 14.4542\n",
            "  75th Quartile: 31.0\n",
            "  Minimum: 0.0\n",
            "  Maximum: 512.3292\n",
            "  Number of Unique Values: 248\n",
            "\n"
          ]
        }
      ]
    },
    {
      "cell_type": "markdown",
      "source": [
        "6. Check for missing values in the dataset and print the total number of missing values for each column"
      ],
      "metadata": {
        "id": "A6bo6RRnJbub"
      }
    },
    {
      "cell_type": "code",
      "source": [
        "for c in t_data.columns:\n",
        "    cnt=0\n",
        "    data=t_data[c]\n",
        "    for i in data:\n",
        "        if pds.isna(i):\n",
        "            cnt+=1\n",
        "    print(f\"The number of empty cells in {c} is {cnt}\")"
      ],
      "metadata": {
        "colab": {
          "base_uri": "https://localhost:8080/"
        },
        "id": "M27Pq1_tJtoV",
        "outputId": "88d3650d-80cb-47a9-c07a-a812f38eb72a"
      },
      "execution_count": 6,
      "outputs": [
        {
          "output_type": "stream",
          "name": "stdout",
          "text": [
            "The number of empty cells in SURVIVED is 0\n",
            "The number of empty cells in PCLASS is 0\n",
            "The number of empty cells in SEX is 0\n",
            "The number of empty cells in AGE is 177\n",
            "The number of empty cells in SIBSP is 0\n",
            "The number of empty cells in PARCH is 0\n",
            "The number of empty cells in FARE is 0\n",
            "The number of empty cells in EMBARKED is 2\n",
            "The number of empty cells in CLASS is 0\n",
            "The number of empty cells in WHO is 0\n",
            "The number of empty cells in ADULT_MALE is 0\n",
            "The number of empty cells in DECK is 688\n",
            "The number of empty cells in EMBARK_TOWN is 2\n",
            "The number of empty cells in ALIVE is 0\n",
            "The number of empty cells in ALONE is 0\n"
          ]
        }
      ]
    },
    {
      "cell_type": "markdown",
      "source": [
        "7. Fill the missing values in the AGE column with the median age."
      ],
      "metadata": {
        "id": "P6U_KsIJNMzU"
      }
    },
    {
      "cell_type": "code",
      "source": [
        "data=t_data['AGE']\n",
        "data1=t_data['AGE'].dropna()\n",
        "Q1,Q2,Q3=calc_quartiles(data1)\n",
        "t_data['AGE']=t_data['AGE'].fillna(Q2)\n",
        "print(t_data['AGE'])"
      ],
      "metadata": {
        "id": "cJOwYTf1NXy9",
        "colab": {
          "base_uri": "https://localhost:8080/"
        },
        "outputId": "8ee3f681-3d1e-462d-bfdf-a7777e43664b"
      },
      "execution_count": 7,
      "outputs": [
        {
          "output_type": "stream",
          "name": "stdout",
          "text": [
            "0      22.0\n",
            "1      38.0\n",
            "2      26.0\n",
            "3      35.0\n",
            "4      35.0\n",
            "       ... \n",
            "886    27.0\n",
            "887    19.0\n",
            "888    28.0\n",
            "889    26.0\n",
            "890    32.0\n",
            "Name: AGE, Length: 891, dtype: float64\n"
          ]
        }
      ]
    },
    {
      "cell_type": "markdown",
      "source": [
        "8. Find the average age of the passengers"
      ],
      "metadata": {
        "id": "BdF3VbPzQ_YK"
      }
    },
    {
      "cell_type": "code",
      "source": [
        "data=t_data['AGE']\n",
        "mean=calc_mean(data)\n",
        "print(f\"The average age of the passengers was {mean}\")"
      ],
      "metadata": {
        "colab": {
          "base_uri": "https://localhost:8080/"
        },
        "id": "hK9AIHKzRFag",
        "outputId": "078a13fb-3be5-4e5f-851f-735bdcb07ac0"
      },
      "execution_count": 8,
      "outputs": [
        {
          "output_type": "stream",
          "name": "stdout",
          "text": [
            "The average age of the passengers was 29.36158249158249\n"
          ]
        }
      ]
    },
    {
      "cell_type": "markdown",
      "source": [
        "9. Find the number of passengers who survived and those who did not"
      ],
      "metadata": {
        "id": "3ycvndw4RvdO"
      }
    },
    {
      "cell_type": "code",
      "source": [
        "data=t_data['SURVIVED']\n",
        "s=0\n",
        "d=0\n",
        "for i in data:\n",
        "  if i == 0:\n",
        "    d+=1\n",
        "  else:\n",
        "    s+=1\n",
        "print(f\"The number of passengers who survived are {s}\")\n",
        "print(f\"The number of passengers who died are {d}\")"
      ],
      "metadata": {
        "colab": {
          "base_uri": "https://localhost:8080/"
        },
        "id": "x3ZBayq4R54D",
        "outputId": "aaaafee9-4a5e-4ffa-d5eb-63edef63fa17"
      },
      "execution_count": 9,
      "outputs": [
        {
          "output_type": "stream",
          "name": "stdout",
          "text": [
            "The number of passengers who survived are 342\n",
            "The number of passengers who died are 549\n"
          ]
        }
      ]
    },
    {
      "cell_type": "markdown",
      "source": [
        "10. Calculate the survival rate(percentage of passengers who survived)"
      ],
      "metadata": {
        "id": "F6CQPX8FTHfG"
      }
    },
    {
      "cell_type": "code",
      "source": [
        "print(f\"The survival rate was {s/(s+d)*100}%\")"
      ],
      "metadata": {
        "colab": {
          "base_uri": "https://localhost:8080/"
        },
        "id": "BtJhfiM1TV8q",
        "outputId": "92f318e7-187f-48c4-c7b0-9698b8ea80f9"
      },
      "execution_count": 10,
      "outputs": [
        {
          "output_type": "stream",
          "name": "stdout",
          "text": [
            "The survival rate was 38.38383838383838%\n"
          ]
        }
      ]
    },
    {
      "cell_type": "markdown",
      "source": [
        "11. Plot a histogram of the ages of the passengers"
      ],
      "metadata": {
        "id": "CMJjdH9dUQGH"
      }
    },
    {
      "cell_type": "code",
      "source": [
        "plt.figure(figsize=(10,4))\n",
        "sns.histplot(t_data['AGE'], kde=False, bins=40, color='red')\n",
        "plt.title('Histogram of passenger ages on the Titanic')\n",
        "plt.xlabel('Age')\n",
        "plt.ylabel('Frequency')\n",
        "plt.show()"
      ],
      "metadata": {
        "colab": {
          "base_uri": "https://localhost:8080/",
          "height": 410
        },
        "id": "DKiPFRhdUWzn",
        "outputId": "af52e25a-bf34-4e0a-d604-5d78f9f098e7"
      },
      "execution_count": 11,
      "outputs": [
        {
          "output_type": "display_data",
          "data": {
            "text/plain": [
              "<Figure size 1000x400 with 1 Axes>"
            ],
            "image/png": "[encoded data removed]"
          },
          "metadata": {}
        }
      ]
    },
    {
      "cell_type": "markdown",
      "source": [
        "12. Create a bar plot showing the number of passengers in each class"
      ],
      "metadata": {
        "id": "0ZIU7O7KWm3k"
      }
    },
    {
      "cell_type": "code",
      "source": [
        "passenger_counts = t_data['CLASS'].value_counts().reset_index()\n",
        "passenger_counts.columns = ['CLASS', 'COUNT']\n",
        "x_val=passenger_counts['CLASS'].tolist()\n",
        "y_val=passenger_counts['COUNT'].tolist()\n",
        "plt.figure(figsize=(6, 3))\n",
        "custom_order = ['First', 'Second', 'Third']\n",
        "sns.barplot(x=x_val,y=y_val, color='blue', order=custom_order)\n",
        "plt.title('Number of passengers in each class on the Titanic')\n",
        "plt.xlabel('Passenger Class')\n",
        "plt.ylabel('Number of Passengers')\n",
        "plt.show()"
      ],
      "metadata": {
        "colab": {
          "base_uri": "https://localhost:8080/",
          "height": 333
        },
        "id": "PnI7Aa6AWvIb",
        "outputId": "fcfb1829-8890-46cd-bad7-c1a50bf3bb0f"
      },
      "execution_count": 12,
      "outputs": [
        {
          "output_type": "display_data",
          "data": {
            "text/plain": [
              "<Figure size 600x300 with 1 Axes>"
            ],
            "image/png": "[encoded data removed]"
          },
          "metadata": {}
        }
      ]
    },
    {
      "cell_type": "markdown",
      "source": [
        "13. Create a count plot showing the number of survivors"
      ],
      "metadata": {
        "id": "BfaEpTJRYScO"
      }
    },
    {
      "cell_type": "code",
      "source": [
        "plt.figure(figsize=(6, 4))\n",
        "sns.countplot(x='SURVIVED', hue='SURVIVED', data=t_data, palette=['red','blue'], order=[0,1])\n",
        "plt.title('Survival of passengers on the Titanic')\n",
        "plt.xlabel('Passenger Survival')\n",
        "plt.ylabel('Number of Passengers')\n",
        "plt.xticks([0,1], ['Not-Survived', 'Survived'])\n",
        "plt.show()\n"
      ],
      "metadata": {
        "colab": {
          "base_uri": "https://localhost:8080/",
          "height": 410
        },
        "id": "5H-B0SD_YwDt",
        "outputId": "db50e006-6a8c-4b82-8a3d-16b8943c272a"
      },
      "execution_count": 13,
      "outputs": [
        {
          "output_type": "display_data",
          "data": {
            "text/plain": [
              "<Figure size 600x400 with 1 Axes>"
            ],
            "image/png": "[encoded data removed]"
          },
          "metadata": {}
        }
      ]
    },
    {
      "cell_type": "markdown",
      "source": [
        "END of ASSIGNMENT 02"
      ],
      "metadata": {
        "id": "Y_a4z5RS5qfw"
      }
    }
  ]
}